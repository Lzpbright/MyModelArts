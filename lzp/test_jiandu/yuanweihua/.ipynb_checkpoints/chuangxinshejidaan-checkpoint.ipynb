{
 "cells": [
  {
   "cell_type": "code",
   "execution_count": 1,
   "metadata": {},
   "outputs": [],
   "source": [
    "#导入MindSpore模块和辅助模块：\n",
    "\n",
    "import os\n",
    "# os.environ['DEVICE_ID'] = '7'\n",
    "import csv\n",
    "import numpy as np\n",
    "\n",
    "import mindspore as ms\n",
    "from mindspore import nn\n",
    "from mindspore import context\n",
    "from mindspore import dataset\n",
    "from mindspore.train.callback import LossMonitor\n",
    "\n",
    "context.set_context(mode=context.GRAPH_MODE, device_target=\"Ascend\")"
   ]
  },
  {
   "cell_type": "code",
   "execution_count": 2,
   "metadata": {},
   "outputs": [
    {
     "name": "stdout",
     "output_type": "stream",
     "text": [
      "[['5.1', '3.5', '1.4', '0.2', 'Iris-setosa'], ['4.9', '3.0', '1.4', '0.2', 'Iris-setosa'], ['4.7', '3.2', '1.3', '0.2', 'Iris-setosa'], ['4.6', '3.1', '1.5', '0.2', 'Iris-setosa'], ['5.0', '3.6', '1.4', '0.2', 'Iris-setosa']]\n",
      "[['7.0', '3.2', '4.7', '1.4', 'Iris-versicolor'], ['6.4', '3.2', '4.5', '1.5', 'Iris-versicolor'], ['6.9', '3.1', '4.9', '1.5', 'Iris-versicolor'], ['5.5', '2.3', '4.0', '1.3', 'Iris-versicolor'], ['6.5', '2.8', '4.6', '1.5', 'Iris-versicolor']]\n",
      "[['6.3', '3.3', '6.0', '2.5', 'Iris-virginica'], ['5.8', '2.7', '5.1', '1.9', 'Iris-virginica'], ['7.1', '3.0', '5.9', '2.1', 'Iris-virginica'], ['6.3', '2.9', '5.6', '1.8', 'Iris-virginica'], ['6.5', '3.0', '5.8', '2.2', 'Iris-virginica']]\n"
     ]
    }
   ],
   "source": [
    "#读取Iris数据集`iris.data`，并作检查\n",
    "with open('iris.data') as csv_file:\n",
    "    data = list(csv.reader(csv_file, delimiter=','))\n",
    "print(data[0:5]); print(data[50:55]); print(data[100:105]) # 打印部分数据"
   ]
  },
  {
   "cell_type": "code",
   "execution_count": 3,
   "metadata": {},
   "outputs": [],
   "source": [
    "#数据集的3类样本共150条，将样本的4个属性作为自变量$X$，将样本的3个类别映射为{0, 1, 2}，作为因变量$Y$。\n",
    "label_map = {\n",
    "    'Iris-setosa': 0,\n",
    "    'Iris-versicolor': 1,\n",
    "    'Iris-virginica': 2\n",
    "}\n",
    "X = np.array([[float(x) for x in s[:-1]] for s in data[:150]], np.float32)\n",
    "Y = np.array([label_map[s[-1]] for s in data[:150]], np.int32)"
   ]
  },
  {
   "cell_type": "code",
   "execution_count": 4,
   "metadata": {},
   "outputs": [
    {
     "data": {
      "text/plain": [
       "<matplotlib.legend.Legend at 0xffff46023050>"
      ]
     },
     "execution_count": 4,
     "metadata": {},
     "output_type": "execute_result"
    },
    {
     "data": {
      "image/png": "[encoded data removed]",
      "text/plain": [
       "<Figure size 432x288 with 1 Axes>"
      ]
     },
     "metadata": {
      "needs_background": "light"
     },
     "output_type": "display_data"
    }
   ],
   "source": [
    "#取样本的前两个属性进行2维可视化，可以看到在前两个属性上其中一类和余下两类是线性可分的，而余下两类之间线性不可分。\n",
    "from matplotlib import pyplot as plt\n",
    "plt.scatter(X[:50, 0], X[:50, 1], label='Iris-setosa')\n",
    "plt.scatter(X[50:100, 0], X[50:100, 1], label='Iris-versicolor')\n",
    "plt.scatter(X[100:, 0], X[100:, 1], label='Iris-virginica')\n",
    "plt.xlabel('sepal length')\n",
    "plt.ylabel('sepal width')\n",
    "plt.legend()"
   ]
  },
  {
   "cell_type": "code",
   "execution_count": 5,
   "metadata": {},
   "outputs": [],
   "source": [
    "#将数据集按8:2划分为训练集和验证集\n",
    "train_idx = np.random.choice(150, 120, replace=False)\n",
    "test_idx = np.array(list(set(range(150)) - set(train_idx)))\n",
    "X_train, Y_train = X[train_idx], Y[train_idx]\n",
    "X_test, Y_test = X[test_idx], Y[test_idx]"
   ]
  },
  {
   "cell_type": "code",
   "execution_count": 6,
   "metadata": {},
   "outputs": [],
   "source": [
    "#使用MindSpore`GeneratorDataset`接口将numpy.ndarray类型的数据转换为Dataset\n",
    "XY_train = list(zip(X_train, Y_train))\n",
    "ds_train = dataset.GeneratorDataset(XY_train, ['x', 'y'])\n",
    "ds_train.set_dataset_size(120)\n",
    "ds_train = ds_train.shuffle(buffer_size=120).batch(32, drop_remainder=True)\n",
    "\n",
    "XY_test = list(zip(X_test, Y_test))\n",
    "ds_test = dataset.GeneratorDataset(XY_test, ['x', 'y'])\n",
    "ds_test.set_dataset_size(30)\n",
    "ds_test = ds_test.batch(30)"
   ]
  },
  {
   "cell_type": "code",
   "execution_count": 7,
   "metadata": {},
   "outputs": [],
   "source": [
    "net = nn.Dense(4, 3)\n",
    "loss = nn.loss.SoftmaxCrossEntropyWithLogits(is_grad=False, sparse=True, reduction='mean')\n",
    "opt = nn.optim.Momentum(net.trainable_params(), learning_rate=0.05, momentum=0.9)\n"
   ]
  },
  {
   "cell_type": "code",
   "execution_count": 8,
   "metadata": {},
   "outputs": [
    {
     "name": "stdout",
     "output_type": "stream",
     "text": [
      "epoch: 1 step 3, loss is 0.9895955324172974\n",
      "Epoch time: 11988.565, per step time: 3996.188, avg loss: 1.047\n",
      "************************************************************\n",
      "epoch: 2 step 3, loss is 0.7949798703193665\n",
      "Epoch time: 12.615, per step time: 4.205, avg loss: 0.906\n",
      "************************************************************\n",
      "epoch: 3 step 3, loss is 0.9061311483383179\n",
      "Epoch time: 9.442, per step time: 3.147, avg loss: 0.828\n",
      "************************************************************\n",
      "epoch: 4 step 3, loss is 0.6883143782615662\n",
      "Epoch time: 8.208, per step time: 2.736, avg loss: 0.657\n",
      "************************************************************\n",
      "epoch: 5 step 3, loss is 0.6857959628105164\n",
      "Epoch time: 8.367, per step time: 2.789, avg loss: 0.868\n",
      "************************************************************\n",
      "epoch: 6 step 3, loss is 0.6530308723449707\n",
      "Epoch time: 8.103, per step time: 2.701, avg loss: 0.601\n",
      "************************************************************\n",
      "epoch: 7 step 3, loss is 0.34822067618370056\n",
      "Epoch time: 8.188, per step time: 2.729, avg loss: 0.581\n",
      "************************************************************\n",
      "epoch: 8 step 3, loss is 0.5254276990890503\n",
      "Epoch time: 8.484, per step time: 2.828, avg loss: 0.385\n",
      "************************************************************\n",
      "epoch: 9 step 3, loss is 0.32533031702041626\n",
      "Epoch time: 8.630, per step time: 2.877, avg loss: 0.377\n",
      "************************************************************\n",
      "epoch: 10 step 3, loss is 0.34122297167778015\n",
      "Epoch time: 9.078, per step time: 3.026, avg loss: 0.315\n",
      "************************************************************\n",
      "epoch: 11 step 3, loss is 0.26299619674682617\n",
      "Epoch time: 8.580, per step time: 2.860, avg loss: 0.291\n",
      "************************************************************\n",
      "epoch: 12 step 3, loss is 0.21660515666007996\n",
      "Epoch time: 8.329, per step time: 2.776, avg loss: 0.245\n",
      "************************************************************\n",
      "epoch: 13 step 3, loss is 0.2926805019378662\n",
      "Epoch time: 8.861, per step time: 2.954, avg loss: 0.275\n",
      "************************************************************\n",
      "epoch: 14 step 3, loss is 0.2575969398021698\n",
      "Epoch time: 8.429, per step time: 2.810, avg loss: 0.240\n",
      "************************************************************\n",
      "epoch: 15 step 3, loss is 0.1847638487815857\n",
      "Epoch time: 8.498, per step time: 2.833, avg loss: 0.244\n",
      "************************************************************\n",
      "epoch: 16 step 3, loss is 0.18596380949020386\n",
      "Epoch time: 8.285, per step time: 2.762, avg loss: 0.232\n",
      "************************************************************\n",
      "epoch: 17 step 3, loss is 0.2737540602684021\n",
      "Epoch time: 8.326, per step time: 2.775, avg loss: 0.218\n",
      "************************************************************\n",
      "epoch: 18 step 3, loss is 0.18189364671707153\n",
      "Epoch time: 8.600, per step time: 2.867, avg loss: 0.217\n",
      "************************************************************\n",
      "epoch: 19 step 3, loss is 0.20564785599708557\n",
      "Epoch time: 8.302, per step time: 2.767, avg loss: 0.224\n",
      "************************************************************\n",
      "epoch: 20 step 3, loss is 0.21189677715301514\n",
      "Epoch time: 8.572, per step time: 2.857, avg loss: 0.239\n",
      "************************************************************\n",
      "epoch: 21 step 3, loss is 0.19147668778896332\n",
      "Epoch time: 8.154, per step time: 2.718, avg loss: 0.211\n",
      "************************************************************\n",
      "epoch: 22 step 3, loss is 0.361211895942688\n",
      "Epoch time: 8.544, per step time: 2.848, avg loss: 0.229\n",
      "************************************************************\n",
      "epoch: 23 step 3, loss is 0.18079419434070587\n",
      "Epoch time: 8.224, per step time: 2.741, avg loss: 0.234\n",
      "************************************************************\n",
      "epoch: 24 step 3, loss is 0.22634898126125336\n",
      "Epoch time: 9.091, per step time: 3.030, avg loss: 0.210\n",
      "************************************************************\n",
      "epoch: 25 step 3, loss is 0.14523333311080933\n",
      "Epoch time: 8.183, per step time: 2.728, avg loss: 0.174\n",
      "************************************************************\n",
      "{'loss': 0.1704064905643463, 'acc': 1.0}\n"
     ]
    }
   ],
   "source": [
    "model = ms.train.Model(net, loss, opt, metrics={'acc', 'loss'})\n",
    "model.train(25, ds_train, callbacks=[LossMonitor(per_print_times=ds_train.get_dataset_size())], dataset_sink_mode=False)\n",
    "metrics = model.eval(ds_test)\n",
    "print(metrics)"
   ]
  },
  {
   "cell_type": "code",
   "execution_count": 9,
   "metadata": {},
   "outputs": [
    {
     "ename": "NameError",
     "evalue": "name 'argparse' is not defined",
     "output_type": "error",
     "traceback": [
      "\u001b[0;31m---------------------------------------------------------------------------\u001b[0m",
      "\u001b[0;31mNameError\u001b[0m                                 Traceback (most recent call last)",
      "\u001b[0;32m<ipython-input-9-c58748affa35>\u001b[0m in \u001b[0;36m<module>\u001b[0;34m\u001b[0m\n\u001b[1;32m      1\u001b[0m \u001b[0;31m##### import argparse\u001b[0m\u001b[0;34m\u001b[0m\u001b[0;34m\u001b[0m\u001b[0;34m\u001b[0m\u001b[0m\n\u001b[0;32m----> 2\u001b[0;31m \u001b[0mparser\u001b[0m \u001b[0;34m=\u001b[0m \u001b[0margparse\u001b[0m\u001b[0;34m.\u001b[0m\u001b[0mArgumentParser\u001b[0m\u001b[0;34m(\u001b[0m\u001b[0;34m)\u001b[0m\u001b[0;34m\u001b[0m\u001b[0;34m\u001b[0m\u001b[0m\n\u001b[0m\u001b[1;32m      3\u001b[0m \u001b[0mparser\u001b[0m\u001b[0;34m.\u001b[0m\u001b[0madd_argument\u001b[0m\u001b[0;34m(\u001b[0m\u001b[0;34m'--data_url'\u001b[0m\u001b[0;34m,\u001b[0m \u001b[0mrequired\u001b[0m\u001b[0;34m=\u001b[0m\u001b[0;32mTrue\u001b[0m\u001b[0;34m,\u001b[0m \u001b[0mdefault\u001b[0m\u001b[0;34m=\u001b[0m\u001b[0;32mNone\u001b[0m\u001b[0;34m,\u001b[0m \u001b[0mhelp\u001b[0m\u001b[0;34m=\u001b[0m\u001b[0;34m'Location of data.'\u001b[0m\u001b[0;34m)\u001b[0m\u001b[0;34m\u001b[0m\u001b[0;34m\u001b[0m\u001b[0m\n\u001b[1;32m      4\u001b[0m \u001b[0margs\u001b[0m\u001b[0;34m,\u001b[0m \u001b[0munknown\u001b[0m \u001b[0;34m=\u001b[0m \u001b[0mparser\u001b[0m\u001b[0;34m.\u001b[0m\u001b[0mparse_known_args\u001b[0m\u001b[0;34m(\u001b[0m\u001b[0;34m)\u001b[0m\u001b[0;34m\u001b[0m\u001b[0;34m\u001b[0m\u001b[0m\n",
      "\u001b[0;31mNameError\u001b[0m: name 'argparse' is not defined"
     ]
    }
   ],
   "source": [
    "##### import argparse\n",
    "parser = argparse.ArgumentParser()\n",
    "parser.add_argument('--data_url', required=True, default=None, help='Location of data.')\n",
    "args, unknown = parser.parse_known_args()"
   ]
  },
  {
   "cell_type": "code",
   "execution_count": null,
   "metadata": {},
   "outputs": [],
   "source": [
    "%tb"
   ]
  },
  {
   "cell_type": "code",
   "execution_count": null,
   "metadata": {},
   "outputs": [],
   "source": [
    "import moxing\n",
    "# src_url形如's3://OBS/PATH'，为OBS桶中数据集的路径，dst_url为执行容器中的路径，两者皆为目录/皆为文件\n",
    "moxing.file.copy_parallel(src_url=os.path.join(args.data_url, 'iris.data'), dst_url='iris.data')"
   ]
  },
  {
   "cell_type": "code",
   "execution_count": null,
   "metadata": {},
   "outputs": [],
   "source": []
  },
  {
   "cell_type": "code",
   "execution_count": null,
   "metadata": {},
   "outputs": [],
   "source": []
  }
 ],
 "metadata": {
  "kernelspec": {
   "display_name": "MindSpore-0.5.0-python3.7-aarch64",
   "language": "python",
   "name": "mindspore-0.5.0"
  },
  "language_info": {
   "codemirror_mode": {
    "name": "ipython",
    "version": 3
   },
   "file_extension": ".py",
   "mimetype": "text/x-python",
   "name": "python",
   "nbconvert_exporter": "python",
   "pygments_lexer": "ipython3",
   "version": "3.7.6"
  }
 },
 "nbformat": 4,
 "nbformat_minor": 4
}
